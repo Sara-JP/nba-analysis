{
 "cells": [
  {
   "cell_type": "markdown",
   "id": "d333515a",
   "metadata": {},
   "source": [
    "<h1 align=center style=\"line-height:200%;font-family:vazir;color:#0099cc\">\n",
    "<font face=\"vazir\" color=\"#0099cc\">\n",
    "مرحوم کوبی\n",
    "</font>\n",
    "</h1>"
   ]
  },
  {
   "cell_type": "markdown",
   "id": "6ed20bff",
   "metadata": {},
   "source": [
    "<h2 align=right style=\"line-height:200%;font-family:vazir;color:#0099cc\">\n",
    "<font face=\"vazir\" color=\"#0099cc\">\n",
    "مقدمه و صورت مسئله\n",
    "</font>\n",
    "</h2>\n",
    "\n",
    "<p dir=rtl style=\"direction: rtl;text-align: right;line-height:200%;font-family:vazir;font-size:medium\">\n",
    "<font face=\"vazir\" size=3>\n",
    "آیا تا به حال فکر کرده‌اید چطور یک تیم ورزشی به موفقیت می‌رسد ولی تیم دیگری در راه موفقیت ناکام می‌ماند؟\n",
    "    <br>\n",
    "    ایده اولیه برای جواب این سوال این است که تیم برنده، دائما در حال تمرینات سخت و سنگین است. که البته همینطور هم هست!\n",
    "    <br>\n",
    "     اما تنها تمرین زیاد یک تیم را به موفقیت نمی‌رساند، بلکه پارامترهای دیگری هم موثر اند. اهمیت تصمیمات داده-محور حتی در ورزش هم خود را نشان داده‌اند. سرمربی‌های تیم‌های ورزشی مطرح دنیا، علاوه بر تنظیم تمرینات منظم و کارآمد برای بازیکنان، با تحلیل دقیق آن‌ها و آنالیز رفتار و سبک بازی تیم مقابل، بازی را به نفع تیم خود تمام می‌کنند.\n",
    "    <br>\n",
    "    یکی از تحلیل‌هایی که سرمربی‌های نمونه انجام می‌دهند، بررسی عملکرد بازیکنان است. به این وسیله آن‌ها می‌توانند بازیکنان بهتری را به خدمت بگیرند، یا حتی برای آینده برنامه‌ریزی کنند و افرادی را جذب تیم کنند که در سال‌های آینده درخشش بالایی داشته باشد.\n",
    "    <br>\n",
    "    <br>\n",
    "    <b>\n",
    "    حال در این تمرین قصد داریم با تحلیل عملکرد بازیکنان لیگ حرفه‌ای امریکا (NBA) پیشبینی کنیم آیا یک بازیکن برای ۵ سال در این لیگ بازی خواهد کرد یا خیر!\n",
    "    </b>\n",
    "</font>\n",
    "</p>\n",
    "\n",
    "<h5 align=center style=\"direction: rtl;text-align: center;line-height:200%;font-family:vazir;color:#0099cc\">\n",
    "<font face=\"vazir\" color=\"#0099cc\">\n",
    "درخشش کوبی برایانت برای همیشه در یادها خواهد ماند!\n",
    "</font>\n",
    "</h5>\n"
   ]
  },
  {
   "cell_type": "markdown",
   "id": "1c42c409",
   "metadata": {},
   "source": [
    "<h2 align=right style=\"line-height:200%;font-family:vazir;color:#0099cc\">\n",
    "<font face=\"vazir\" color=\"#0099cc\">\n",
    "وارد کردن کتابخانه‌های مورد نیاز\n",
    "</font>\n",
    "</h2>\n",
    "\n",
    "<p dir=rtl style=\"direction: rtl;text-align: right;line-height:200%;font-family:vazir;font-size:medium\">\n",
    "<font face=\"vazir\" size=3>\n",
    "    ابتدا کتابخانه‌های مورد نیازتان را وارد کنید.\n",
    "</font>\n",
    "</p>"
   ]
  },
  {
   "cell_type": "code",
   "execution_count": null,
   "id": "99450f9e",
   "metadata": {},
   "outputs": [],
   "source": [
    "import numpy as np\n",
    "import pandas as pd "
   ]
  },
  {
   "cell_type": "markdown",
   "id": "72faaed8",
   "metadata": {},
   "source": [
    "<h2 align=right style=\"line-height:200%;font-family:vazir;color:#0099cc\">\n",
    "<font face=\"vazir\" color=\"#0099cc\">\n",
    "معرفی مجموعه داده\n",
    "</font>\n",
    "</h2>\n",
    "\n",
    "<p dir=rtl style=\"direction: rtl;text-align: right;line-height:200%;font-family:vazir;font-size:medium\">\n",
    "<font face=\"vazir\" size=3>\n",
    "داده آموزشی دارای ۲۱ ستون و ۹۳۸ سطر است که هر سطر اطلاعات یک بازیکن را نشان می‌دهد.\n",
    "    <br>\n",
    "    در جدول زیر، ستون‌های دیتافریم و توضیحات هر یک را مشاهده می‌کنیم:\n",
    "</font>\n",
    "</p>\n",
    "\n",
    "\n",
    "<div dir=rtl style=\"direction: rtl;text-align: right;line-height:200%;font-family:vazir;font-size:medium\">\n",
    "<font face=\"vazir\" size=3>\n",
    "    \n",
    "|ستون|توضیحات|\n",
    "|:------:|:---:|\n",
    "|name|نام بازیکن|\n",
    "|gp|تعداد بازی‌هایی که بازیکن در آن حضور داشته است|\n",
    "|min|تعداد دقایقی که بازیکن در زمین حضور داشته است|\n",
    "|pts|تعداد امتیازی که بازیکن به طور میانگین در هر بازی کسب کرده است|\n",
    "|fgm|میانگین گل‌هایی که در جریان بازی به ثمر رسانده است|\n",
    "|fga|میانگین تلاش‌هایی که برای به ثمر رساندن گل در جریان بازی کرده است|\n",
    "|fg|درصد گل‌های درحال بازی|\n",
    "|3p_made|میانگین گل‌های ۳ امتیازی که در هر بازی به ثمر رسانده است|\n",
    "|3pa|میانگین تلاش‌هایی که برای به ثمر رساندن گل ۳ امتیازی در هر بازی کرده است|\n",
    "|3p|درصد گل‌های ۳ امتیازی در هر بازی|\n",
    "|ftm|میانگین گل‌هایی که با پرتاب آزاد در هر بازی که به ثمر رسانده است|\n",
    "|fta|میانگین پرتاب‌های آزاد که در هر بازی داشته است|\n",
    "|ft|میانگین گل‌هایی که با پرتاب آزاد به ثمر رسیده اند|\n",
    "|oreb|میانگین ریباند‌های تهاجمی|\n",
    "|dreb|میانگین ریباند‌های تدافعی|\n",
    "|reb|میانگین ریباندها|\n",
    "|ast|میانگین پاس گل|\n",
    "|stl|میانگین توپ‌ربایی|\n",
    "|blk|میانگین دفعاتی که بازیکن سد توب کرده است|\n",
    "|tov|میانگین دفعاتی که بازیگن توپ را از دست داده است|\n",
    "|target_5yrs|آیا بازیکن به مدت ۵ سال در NBA می‌ماند یا خیر|\n",
    "    \n",
    "</font>\n",
    "</div>\n",
    "\n",
    "\n",
    "\n",
    "<p dir=rtl style=\"direction: rtl;text-align: right;line-height:200%;font-family:vazir;font-size:medium\">\n",
    "<font face=\"vazir\" size=3>\n",
    "    داده آزمایش (test) دارای ۴۰۲ سطر و ۲۰ ستون است. واضح است که دیتافریم <code>test</code> ستون <code>target_5yrs</code> را شامل نمی‌شود!\n",
    "</font>\n",
    "</p>"
   ]
  },
  {
   "cell_type": "markdown",
   "id": "e99bbe9b",
   "metadata": {},
   "source": [
    "<h2 align=right style=\"line-height:200%;font-family:vazir;color:#0099cc\">\n",
    "<font face=\"vazir\" color=\"#0099cc\">\n",
    "خواندن مجموعه داده\n",
    "</font>\n",
    "</h2>\n",
    "\n",
    "<p dir=rtl style=\"direction: rtl;text-align: right;line-height:200%;font-family:vazir;font-size:medium\">\n",
    "<font face=\"vazir\" size=3>\n",
    "    حال با اجرای سلول زیر مجموعه داده را از فایل بخوانید.\n",
    "</font>\n",
    "</p>"
   ]
  },
  {
   "cell_type": "code",
   "execution_count": null,
   "id": "7dcb9e87",
   "metadata": {},
   "outputs": [],
   "source": [
    "train = pd.read_csv('../data/nba_players_train.csv')\n",
    "test = pd.read_csv('../data/nba_players_test.csv')\n",
    "\n",
    "train"
   ]
  },
  {
   "cell_type": "markdown",
   "id": "23daec54",
   "metadata": {},
   "source": [
    "<h2 align=right style=\"line-height:200%;font-family:vazir;color:#0099cc\">\n",
    "<font face=\"vazir\" color=\"#0099cc\">\n",
    "پیش‌پردازش و مهندسی ویژگی\n",
    "</font>\n",
    "</h2>\n",
    "\n",
    "<p dir=rtl style=\"direction: rtl;text-align: right;line-height:200%;font-family:vazir;font-size:medium\">\n",
    "<font face=\"vazir\" size=3>\n",
    "    در این سوال شما می‌توانید از هر تکنیک پیش‌پردازش/مهندسی ویژگی که در فصل‌های گذشته آموختید، استفاده کنید.\n",
    "    <br>\n",
    "    تکنیک‌هایی که استفاده می‌کنید به شکل مستقیم مورد ارزیابی توسط سامانه داوری قرار <b>نمی‌گیرند.</b> بلکه همه آن‌ها در دقت مدل شما تاثیر خواهند گذاشت؛ بنابراین هر چه پیش‌پردازش/مهندسی ویژگی بهتری انجام دهید تا دقت مدل بهبود پیدا کند، امتیاز بیشتری از این سوال کسب خواهید کرد.\n",
    "</font>\n",
    "</p>"
   ]
  },
  {
   "cell_type": "code",
   "execution_count": null,
   "id": "f7c23000",
   "metadata": {},
   "outputs": [],
   "source": [
    "# do some preprocessing!"
   ]
  },
  {
   "cell_type": "markdown",
   "id": "f99f2c94",
   "metadata": {},
   "source": [
    "<h2 align=right style=\"line-height:200%;font-family:vazir;color:#0099cc\">\n",
    "<font face=\"vazir\" color=\"#0099cc\">\n",
    "مدلسازی\n",
    "</font>\n",
    "</h2>\n",
    "\n",
    "<p dir=rtl style=\"direction: rtl;text-align: right;line-height:200%;font-family:vazir;font-size:medium\">\n",
    "<font face=\"vazir\" size=3>\n",
    "    حال که داده را پاکسازی کرده و احتمالا ویژگی‌هایی را به آن افزوده یا از آن حذف کرده‌اید، وقت آن است که مدلی آموزش دهید که بتواند متغیر هدف این مسئله را پیش‌بینی کند.\n",
    "</font>\n",
    "</p>"
   ]
  },
  {
   "cell_type": "markdown",
   "id": "ce92f0f7",
   "metadata": {},
   "source": [
    "<h3 align=right style=\"direction: rtl;text-align: right;line-height:200%;font-family:vazir;color:#0099cc\">\n",
    "<font face=\"vazir\" color=\"#0099cc\">\n",
    "    استفاده از <code>scikit-learn</code>\n",
    "</font>\n",
    "</h3>\n",
    "\n",
    "\n",
    "<p dir=rtl style=\"direction: rtl;text-align: right;line-height:200%;font-family:vazir;font-size:medium\">\n",
    "<font face=\"vazir\" size=3>\n",
    "    الگوریتم <i>رگرسیون لجستیک</i> با نام <code>LogisticRegression</code> در پکیج <code>linear_model</code> این کتابخانه در دسترس است. برخی از آرگومان‌های مهم آن در جدول زیر آمده است، اما جهت مطالعه‌ی کامل‌تر مستندات می‌توانید به <a href=\"https://scikit-learn.org/stable/modules/generated/sklearn.linear_model.LogisticRegression.html\" target=\"_blank\">این لینک</a> مراجعه فرمایید.\n",
    "</font>\n",
    "</p>\n",
    "\n",
    "<center>\n",
    "<div dir=rtl style=\"direction: rtl;text-align: right;line-height:200%;font-family:vazir;font-size:medium\">\n",
    "<font face=\"vazir\" size=3>\n",
    "    \n",
    "|آرگومان|جنس و تایپ|توضیحات|\n",
    "|:------:|:--------:|:---:|\n",
    "|penalty|<code>str</code> یا <code>None</code>|هایپرپارامتری است که برای جلوگیری از بیش‌برازش استفاده می‌شود. اگر None نباشد، به تابع هزینه مقادیری را اضافه می‌کند تا در فرایند بهینه‌سازی، وزن بعضی از متغیرها بیشتر کاهش یابد. <code>None</code>, <code>l1</code>, <code>l2</code>, <code>elasticnet</code> مقادیری است که این آرگومان می‌پذیرد. با جزئیات کاری که این هایپرپارامتر انجام می‌هد در درسنامه‌های بعدی آشنا می‌شوید|\n",
    "|fit_intercept|<code>bool</code>|مشخص می‌کند که آیا الگوریتم با بایاس آموزش ببیند یا خیر|\n",
    "|class_weight|<code>str</code> یا <code>dict</code>|وزنی که هر کلاس در فرایند آموزش دارد را با این آرگومان می‌توان تنظیم کرد. کارایی این هایپرپارامتر جایی مشخص می‌شود که تعداد نمونه‌های هر کلاس، متعادل نباشد. مثلا تعداد بیماران سرطانی در برابر همه کسانی که به بیمارستان مراجعه می‌کنند. با تظیم این آرگومان می‌توان به کلاس‌ها وزن داد به شکلی که اگر مدل در پیشبینی نمونه‌های آن کلاس دچار خطا شد، بیشتر از حالت معمول جریمه شود. اگر None باشد، وزن همه کلاس‌ها برابر ۱ خواهد بود. اگر رشته <code>balanced</code> پاس داده شود، از فرمول $$n\\_samples / (n\\_classes * np.bincount(y))$$ استفاده می‌شود. دیکشنری را می‌توان به شکل <code>{class_label:class_weight}</code> به این آرگومان پاس داد|\n",
    "|max_iter|<code>int</code>|حداکثر دفعاتی که الگوریتم بهینه‌ساز مجاز است اجرا شود تا به نقطه بهینه همگرا شود|\n",
    "|n_jobs|<code>int</code>|تعداد <i>core</i>های cpu که در فرایند موازی‌سازی استفاده شود را مشخص می‌کند. اگر برابر ۱- تنظیم شود، از همه <i>core</i>ها استفاده خواهد کرد|\n",
    "    \n",
    "</font>\n",
    "</div>\n",
    "</center>\n"
   ]
  },
  {
   "cell_type": "markdown",
   "id": "e26d3557",
   "metadata": {},
   "source": [
    "<h3 align=right style=\"line-height:200%;font-family:vazir;color:#0099cc\">\n",
    "<font face=\"vazir\" color=\"#0099cc\">\n",
    "آموزش مدل\n",
    "</font>\n",
    "</h3>\n",
    "\n",
    "<p dir=rtl style=\"direction: rtl; text-align: justify; line-height:200%; font-family:vazir; font-size:medium\">\n",
    "<font face=\"vazir\" size=3>\n",
    "    در سلول زیر با استفاده از مدل آماده‌ای که در بالا شرح داده شد و به کمک تابع <code>fit</code> الگوریتم را بر روی دادگان آموزشی اجرا کنید.\n",
    "</font>\n",
    "</p>"
   ]
  },
  {
   "cell_type": "code",
   "execution_count": null,
   "id": "03d20a30",
   "metadata": {},
   "outputs": [],
   "source": [
    "# modeling\n",
    "from sklearn.model_selection import train_test_split\n",
    "from sklearn.linear_model import LogisticRegression\n",
    "\n",
    "model = LogisticRegression()"
   ]
  },
  {
   "cell_type": "markdown",
   "id": "33da5d2a",
   "metadata": {},
   "source": [
    "<h3 align=right style=\"line-height:200%;font-family:vazir;color:#0099cc\">\n",
    "<font face=\"vazir\" color=\"#0099cc\">\n",
    "معیار ارزیابی\n",
    "</font>\n",
    "</h3>\n",
    "\n",
    "<p dir=rtl style=\"direction: rtl;text-align: right;line-height:200%;font-family:vazir;font-size:medium\">\n",
    "<font face=\"vazir\" size=3>\n",
    "    معیاری که برای ارزیابی عملکرد مدل انتخاب کرده‌ایم، <code>roc_auc_score</code> نام دارد.\n",
    "    <br>\n",
    "    این معیار، سنجه ارزیابی کیفیت مدل شماست. به عبارت بهتر در سامانه داوری هم از همین معیار برای نمره‌دهی استفاده شده است.\n",
    "</font>\n",
    "</p>"
   ]
  },
  {
   "cell_type": "markdown",
   "id": "30e7f564",
   "metadata": {},
   "source": [
    "<p dir=rtl style=\"direction: rtl; text-align: justify; line-height:200%; font-family:vazir; font-size:medium\">\n",
    "<font color=\"red\"><b color='red'>توجه:</b></font>\n",
    "<font face=\"vazir\" size=3>\n",
    " جهت کسب امتیاز کامل نیاز است تا پاسخ شما حداقل امتیاز <code>65%</code> را با توجه به معیار معرفی‌شده کسب نماید.\n",
    "</font>\n",
    "</p>"
   ]
  },
  {
   "cell_type": "code",
   "execution_count": null,
   "id": "f3f005b7",
   "metadata": {},
   "outputs": [],
   "source": [
    "# evaluate model\n",
    "from sklearn.metrics import roc_auc_score\n"
   ]
  },
  {
   "cell_type": "markdown",
   "id": "4e9984de",
   "metadata": {},
   "source": [
    "<h2 align=right style=\"line-height:200%;font-family:vazir;color:#0099cc\">\n",
    "<font face=\"vazir\" color=\"#0099cc\">\n",
    " پیش‌بینی برای داده تست و خروجی\n",
    "</font>\n",
    "</h2>\n",
    "\n",
    "<p dir=rtl style=\"direction: rtl;text-align: right;line-height:200%;font-family:vazir;font-size:medium\">\n",
    "<font face=\"vazir\" size=3>\n",
    "    پس از مهندسی ویژگی و مدلسازی، الگوریتمی دارید که می‌تواند شما را از متغیرهای مستقل به متغیر هدف برساند.\n",
    "    <br>\n",
    "    از این مدل برای پیش‌بینی نمونه‌های موجود در داده تست استفاده کنید و نتایج را در قالب جدول (<code>dataframe</code>) زیر آماده کنید.\n",
    "</font>\n",
    "</p>\n",
    "\n",
    "<div dir=rtl style=\"direction: rtl;text-align: right;line-height:200%;font-family:vazir;font-size:medium\">\n",
    "<font face=\"vazir\" size=3>\n",
    "    \n",
    "|ستون|توضیحات|\n",
    "|------|---|\n",
    "|target_5yrs|آیا بازیکن ۵ سال در لیگ حرفه‌ای بازی خواهد کرد با خیر|\n",
    "    \n",
    "</font>\n",
    "</div>\n",
    "\n"
   ]
  },
  {
   "cell_type": "markdown",
   "id": "c2f6d82d",
   "metadata": {},
   "source": [
    "<p dir=rtl style=\"direction: rtl;text-align: right;line-height:200%;font-family:vazir;font-size:medium\">\n",
    "<font face=\"vazir\" size=3>\n",
    "    اسم دیتافریم باید <i>submission</i> باشد؛ در غیر این صورت، سامانه داوری نمی‌تواند تلاش‌ شما را ارزیابی کند.\n",
    "    <br>\n",
    "    این دیتافریم تنها شامل ۱ ستون با اسم <i>target_5yrs</i> است و ۴۰۲ سطر دارد.\n",
    "    <br>\n",
    "    به ازای هر سطر موجود در دیتافریم <i>test</i> شما باید یک مقدار پیشبینی شده داشته باشید.\n",
    "    <br>\n",
    "    جدول زیر، ۵ سطر ابتدایی دیتافریم <code>submission</code> را نشان می‌دهد. البته در جواب شما، اعداد ستون <i>target_5yrs</i> ممکن است متفاوت باشد.\n",
    "</font>\n",
    "</p>\n",
    "\n",
    "<div style=\"text-align: right;line-height:200%;font-family:vazir;font-size:medium\">\n",
    "<font face=\"vazir\" size=3>\n",
    "    \n",
    "||target_5yrs|\n",
    "|----|-----|\n",
    "|0|1|\n",
    "|1|1|\n",
    "|2|0|\n",
    "|3|1|\n",
    "|4|0|\n",
    "\n",
    "</font>\n",
    "</div>\n",
    "\n"
   ]
  },
  {
   "cell_type": "code",
   "execution_count": null,
   "id": "3d4a0844",
   "metadata": {},
   "outputs": [],
   "source": [
    "# predict test samples\n",
    "submission = pd.DataFrame()\n"
   ]
  },
  {
   "cell_type": "markdown",
   "id": "0a77e7cd",
   "metadata": {},
   "source": [
    "<h2 align=right style=\"line-height:200%;font-family:vazir;color:#0099cc\">\n",
    "<font face=\"vazir\" color=\"#0099cc\">\n",
    "<b>سلول جواب‌ساز</b>\n",
    "</font>\n",
    "</h2>\n",
    "\n",
    "<p dir=rtl style=\"direction: rtl;text-align: right;line-height:200%;font-family:vazir;font-size:medium\">\n",
    "<font face=\"vazir\" size=3>\n",
    "    برای ساخته‌شدن فایل <i>result.zip</i> سلول زیر را اجرا کنید.\n",
    "</font>\n",
    "</p>"
   ]
  },
  {
   "cell_type": "code",
   "execution_count": null,
   "id": "2c3bcd76",
   "metadata": {},
   "outputs": [],
   "source": [
    "import zipfile\n",
    "import joblib\n",
    "\n",
    "def compress(file_names):\n",
    "    print(\"File Paths:\")\n",
    "    print(file_names)\n",
    "    # Select the compression mode ZIP_DEFLATED for compression\n",
    "    # or zipfile.ZIP_STORED to just store the file\n",
    "    compression = zipfile.ZIP_DEFLATED\n",
    "    # create the zip file first parameter path/name, second mode\n",
    "    with zipfile.ZipFile(\"result.zip\", mode=\"w\") as zf:\n",
    "        for file_name in file_names:\n",
    "            # Add file to the zip file\n",
    "            # first parameter file to zip, second filename in zip\n",
    "            zf.write('./' + file_name, file_name, compress_type=compression)\n",
    "\n",
    "\n",
    "\n",
    "joblib.dump(model, 'model')\n",
    "submission.to_csv('submission.csv', index=False)\n",
    "\n",
    "file_names = ['model', 'submission.csv', 'nba_analysis.ipynb']\n",
    "compress(file_names)"
   ]
  }
 ],
 "metadata": {
  "kernelspec": {
   "display_name": "Python 3 (ipykernel)",
   "language": "python",
   "name": "python3"
  },
  "language_info": {
   "codemirror_mode": {
    "name": "ipython",
    "version": 3
   },
   "file_extension": ".py",
   "mimetype": "text/x-python",
   "name": "python",
   "nbconvert_exporter": "python",
   "pygments_lexer": "ipython3",
   "version": "3.9.2"
  }
 },
 "nbformat": 4,
 "nbformat_minor": 5
}
